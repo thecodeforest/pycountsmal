{
 "cells": [
  {
   "cell_type": "code",
   "execution_count": null,
   "metadata": {},
   "outputs": [],
   "source": [
    "from fantasyfootball.data import FantasyData\n",
    "from fantasyfootball.benchmarking import filter_to_prior_week, process_benchmark_preds\n",
    "from fantasyfootball.data import FantasyData\n",
    "from fantasyfootball.features import FantasyFeatures\n",
    "\n",
    "# fantasy_data = FantasyData(season_year_start=2015, season_year_end=2021)"
   ]
  },
  {
   "cell_type": "code",
   "execution_count": null,
   "metadata": {},
   "outputs": [],
   "source": [
    "# extract the dataset and the name of our outcome variable (yvar)\n",
    "fantasy_df = fantasy_data.data\n",
    "yvar = fantasy_df.columns[-1]"
   ]
  },
  {
   "cell_type": "code",
   "execution_count": null,
   "metadata": {},
   "outputs": [],
   "source": [
    "# peak at a few observations\n",
    "fantasy_df.tail()"
   ]
  },
  {
   "cell_type": "code",
   "execution_count": null,
   "metadata": {},
   "outputs": [],
   "source": [
    "# forecasting parameters\n",
    "player_positions = [\"QB\",\"RB\", \"WR\", \"TE\"]\n",
    "test_season_years = [2020, 2021]\n",
    "test_season_weeks = list(range(2, 17))\n",
    "# columns common to all prediction sources\n",
    "keys = [\"season_year\", \"week\", \"name\", \"team\",\"position\",\"pid\"]\n",
    "\n",
    "# columns to use for each position as features. \n",
    "# Note that raw features are not transformed in any way.\n",
    "input_features = {\n",
    "    \"QB\": {\n",
    "        \"raw_features\": [\"draftkings_salary\", \"avg_windspeed\", \"avg_temp\"],\n",
    "        \"position_features\": [\"passing_cmp\"],\n",
    "    },\n",
    "    \"RB\": {\n",
    "        \"raw_features\": [\"draftkings_salary\", \"fanduel_salary\"],\n",
    "        \"position_features\": [\"rushing_yds\"],\n",
    "    },\n",
    "    \"WR\": {\n",
    "        \"raw_features\": [\"draftkings_salary\", \"has_dnp_tag\"],\n",
    "        \"position_features\": [\"receiving_rec\"],\n",
    "    },\n",
    "    \"TE\": {\n",
    "        \"raw_features\": [\"draftkings_salary\", \"fanduel_salary\"],\n",
    "        \"position_features\": [\"receiving_rec\"],\n",
    "    },\n",
    "}"
   ]
  },
  {
   "cell_type": "code",
   "execution_count": null,
   "metadata": {},
   "outputs": [],
   "source": [
    "from itertools import product\n",
    "for season_year, season_week in list(product(test_season_years, test_season_weeks)):\n",
    "    if (season_week + 1) > max(test_season_weeks):\n",
    "        continue\n",
    "    for position in player_positions:\n",
    "        # select all data prior to the week you want to create predictions for\n",
    "        backtest_df = fantasy_df.filter_to_prior_week(\n",
    "            season_year=season_year, week_number=season_week\n",
    "        )\n",
    "        #\n",
    "        fantasy_features = FantasyFeatures(backtest_df, y=yvar, position=position)\n",
    "        # prep data for prediction\n",
    "        fantasy_features.log_transform_y()\n",
    "        fantasy_features.filter_inactive_games(status_column=\"is_active\")\n",
    "        fantasy_features.create_future_week()\n",
    "        fantasy_features.filter_n_games_played_by_season(min_games_played=2)\n",
    "        fantasy_features.add_lag_feature(\n",
    "            n_week_lag=1,\n",
    "            lag_columns=[yvar] + input_features.get(position).get(\"position_features\"),\n",
    "        )\n",
    "        fantasy_features.add_moving_avg_feature(\n",
    "            n_week_window=4,\n",
    "            window_columns=[yvar]\n",
    "            + input_features.get(position).get(\"position_features\"),\n",
    "        )\n",
    "        # extract new features and transformed feat\n",
    "        derived_features, feature_df = fantasy_features.create_ff_signature()\n",
    "        # filter to \"train\" (past week) from \"test\" (future week)\n",
    "        hist_df = feature_df[feature_df[\"is_future_week\"] == 0]\n",
    "        future_df = feature_df[feature_df[\"is_future_week\"] == 1]\n",
    "        #\n",
    "        all_features = (\n",
    "            input_features.get(position).get(\"raw_features\") + derived_features\n",
    "        )\n",
    "        # split historical X and y\n",
    "        X_hist, y_hist = hist_df[all_features + [yvar]].get_features_targets(\n",
    "            yvar, all_features\n",
    "        )\n",
    "        # get future X\n",
    "        break\n",
    "    break"
   ]
  },
  {
   "cell_type": "code",
   "execution_count": null,
   "metadata": {},
   "outputs": [],
   "source": []
  }
 ],
 "metadata": {
  "interpreter": {
   "hash": "8e39e5ec1a6a0c1f8e10c21e84c4a4fef876dba0cf6a748d21e7d05543182755"
  },
  "kernelspec": {
   "display_name": "Python 3.8.12 ('pycountsmal')",
   "language": "python",
   "name": "python3"
  },
  "language_info": {
   "codemirror_mode": {
    "name": "ipython",
    "version": 3
   },
   "file_extension": ".py",
   "mimetype": "text/x-python",
   "name": "python",
   "nbconvert_exporter": "python",
   "pygments_lexer": "ipython3",
   "version": "3.8.12"
  },
  "orig_nbformat": 4
 },
 "nbformat": 4,
 "nbformat_minor": 2
}
